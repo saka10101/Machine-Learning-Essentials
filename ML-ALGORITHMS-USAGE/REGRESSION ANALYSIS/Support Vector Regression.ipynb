{
 "cells": [
  {
   "cell_type": "markdown",
   "metadata": {},
   "source": [
    "### Support Vector Regression"
   ]
  },
  {
   "cell_type": "markdown",
   "metadata": {},
   "source": [
    "- SVR is a regression model that supports linear and non linear regressions\n",
    "\n",
    "- Basic terms used:\n",
    " - Kernel: The function used to map a lower dimensional data into a higher dimensional data.\n",
    " - Hyper Plane: In SVM this is basically the separation line between the data classes. Although in SVR we are going to define it as the line that will will help us predict the continuous value or target value\n",
    " - Boundary line: In SVM there are two lines other than Hyper Plane which creates a margin . The support vectors can be on the Boundary lines or outside it. This boundary line separates the two classes. In SVR the concept is same.\n",
    " - Support vectors: This are the data points which are closest to the boundary. The distance of the points is minimum or least.\n",
    "![](https://miro.medium.com/max/630/1*25Kk53QBOpBie4_qMSTnAA.png)\n",
    "\n",
    "\n",
    "- The mission is to fit as many instances as possible between the lines while limiting the margin violations.\n",
    "\n",
    "- The goal in linear regression is to minimize the error between the prediction and data. In SVR, the goal is to make sure that the errors do not exceed the threshold.\n",
    "\n",
    "- SVR requires the training data:{ X, Y} which covers the domain of interest and is accompanied by solutions on that domain.\n",
    "\n",
    "### How to Build a Support Vector Regression Model:\n",
    "\n",
    "- Collect a training ꞇ = {X,Y}\n",
    "- Choose a kernel and parameter and regularization if needed. (Gaussian Kernel and noise regularization are an instance for both steps)\n",
    "- Form the correlation matrix K :!['from persuitdata'](https://miro.medium.com/max/424/1*hzHStLRdwKIWiPROjgF7Aw.png)\n",
    "\n",
    "- Train your machine, exactly or approximately, to get contraction coefficient by using this main part of the algorithm \n",
    "![](https://miro.medium.com/max/627/1*4n9CwqXYKhvvzMw6kDXLOw.png)\n",
    "\n",
    "- Use this coefficient to create an estimator.![](https://miro.medium.com/max/711/1*cDEwMdcQD51t6NcVF7M9rw.png)\n",
    "\n",
    "\n",
    "\n",
    "\n"
   ]
  },
  {
   "cell_type": "code",
   "execution_count": 16,
   "metadata": {},
   "outputs": [
    {
     "name": "stdout",
     "output_type": "stream",
     "text": [
      "[162.7758194]\n"
     ]
    },
    {
     "data": {
      "image/png": "[encoded data removed]",
      "text/plain": [
       "<Figure size 432x288 with 1 Axes>"
      ]
     },
     "metadata": {
      "needs_background": "light"
     },
     "output_type": "display_data"
    }
   ],
   "source": [
    "# SVR\n",
    "\n",
    "# Importing the libraries\n",
    "import numpy as np\n",
    "import matplotlib.pyplot as plt\n",
    "import pandas as pd\n",
    "\n",
    "# Importing the dataset\n",
    "dataset = pd.read_csv('https://raw.githubusercontent.com/vincentarelbundock/Rdatasets/master/csv/datasets/pressure.csv',index_col=0)\n",
    "dataset.head(5)\n",
    "X = dataset.iloc[:, [0]].values\n",
    "y = dataset.iloc[:, [1]].values\n",
    "\n",
    "\n",
    "# Feature Scaling\n",
    "from sklearn.preprocessing import StandardScaler\n",
    "sc_X = StandardScaler()\n",
    "sc_y = StandardScaler()\n",
    "X = sc_X.fit_transform(X)\n",
    "y = sc_y.fit_transform(y)\n",
    "\n",
    "\n",
    "# Fitting SVR to the dataset\n",
    "from sklearn.svm import SVR\n",
    "regressor = SVR(kernel = 'rbf')\n",
    "regressor.fit(X, y.ravel())\n",
    "\n",
    "'''\n",
    "Note on Kernel type:\n",
    "It can be linear,polynomial or gaussian SVR. \n",
    "We have a non-linear condition so we can select polynomial or gaussian but here we select RBF(a gaussian type) kernel.\n",
    "'''\n",
    "\n",
    "# Predicting a new result\n",
    "y_pred = regressor.predict([[8.3]])\n",
    "y_pred = sc_y.inverse_transform(y_pred)\n",
    "print(y_pred)\n",
    "\n",
    "# Visualising the SVR results\n",
    "plt.scatter(X, y, color = 'red')\n",
    "plt.plot(X, regressor.predict(X), color = 'blue')\n",
    "plt.title('Truth or Bluff (SVR)')\n",
    "plt.xlabel('Temperature')\n",
    "plt.ylabel('Pressure')\n",
    "plt.show()\n",
    "\n"
   ]
  },
  {
   "cell_type": "code",
   "execution_count": null,
   "metadata": {},
   "outputs": [],
   "source": []
  }
 ],
 "metadata": {
  "kernelspec": {
   "display_name": "Python 3",
   "language": "python",
   "name": "python3"
  },
  "language_info": {
   "codemirror_mode": {
    "name": "ipython",
    "version": 3
   },
   "file_extension": ".py",
   "mimetype": "text/x-python",
   "name": "python",
   "nbconvert_exporter": "python",
   "pygments_lexer": "ipython3",
   "version": "3.5.2"
  }
 },
 "nbformat": 4,
 "nbformat_minor": 4
}
